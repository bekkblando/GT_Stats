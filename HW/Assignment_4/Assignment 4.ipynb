{
 "cells": [
  {
   "cell_type": "raw",
   "metadata": {},
   "source": [
    "MAT 120 Online, Project #4\n",
    "Fall 2015\n",
    "\n",
    "\n",
    "First, I have corrected an error in the data for my two MAT 120 Online classes. This error will not change anything about this project or Project 3, but it could influence later projects. I have attached the corrected data sheet, and I have also uploaded the corrected sheet to Course Content. Please make sure to print the corrected version of the data. \n",
    "\n",
    "Moving on to the project, I have created a frequency distribution of eye color from our class data:\n",
    "\n",
    "Eye Color\n",
    "Frequency\n",
    "Probability\n",
    "Brown\n",
    "23\n",
    "\n",
    "Green\n",
    "14\n",
    "\n",
    "Blue\n",
    "11\n",
    "\n",
    "Hazel\n",
    "6\n",
    "\n",
    "Dark Brown\n",
    "1\n",
    "\n",
    "Black\n",
    "1\n",
    "\n",
    "\n",
    "1.\tConstruct a probability model for eye color in my two classes. Round your probabilities to three decimal places and write them in the table above.\n",
    "\n",
    "\n",
    "2.\tAre your probabilities empirical probabilities or classical probabilities? Explain.\n",
    "\n",
    "3.\tVerify that your probability model is a legitimate probability model. (HINT: Use the two Rules of Probability on pg. 256.)\n",
    "\n",
    "\n",
    "4.\tIn the sample space of eye color, are dark brown eyes unusual? Are black eyes unusual? Explain why or why not.\n",
    "\n",
    "\n",
    "5.\tIf I randomly select a student from my classes, what is the probability that I select a student with hazel eyes?\n",
    "\n",
    "6.\tIf I randomly select a student from my classes, what is the probability that I select a student with green eyes or blue eyes? Show your work.\n",
    "\n",
    "7.\tIf I randomly select a student from my classes, what is the probability that I select a student who does not have brown eyes? Show your work.\n"
   ]
  },
  {
   "cell_type": "code",
   "execution_count": 1,
   "metadata": {
    "collapsed": true
   },
   "outputs": [],
   "source": [
    "import pandas as pd\n",
    "import statistics as stat\n",
    "import numpy as np\n",
    "import matplotlib.pyplot as plt\n",
    "import math\n",
    "import itertools\n",
    "import seaborn as sns\n",
    "%matplotlib inline"
   ]
  },
  {
   "cell_type": "code",
   "execution_count": 37,
   "metadata": {
    "collapsed": false
   },
   "outputs": [],
   "source": [
    "# Alright lets get this data loaded in\n",
    "eye_frame = pd.DataFrame(index=range(6), columns=['Eye Color', 'Frequency', 'Probability'])"
   ]
  },
  {
   "cell_type": "code",
   "execution_count": 38,
   "metadata": {
    "collapsed": false
   },
   "outputs": [
    {
     "data": {
      "text/html": [
       "<div>\n",
       "<table border=\"1\" class=\"dataframe\">\n",
       "  <thead>\n",
       "    <tr style=\"text-align: right;\">\n",
       "      <th></th>\n",
       "      <th>Eye Color</th>\n",
       "      <th>Frequency</th>\n",
       "      <th>Probability</th>\n",
       "    </tr>\n",
       "  </thead>\n",
       "  <tbody>\n",
       "    <tr>\n",
       "      <th>0</th>\n",
       "      <td>NaN</td>\n",
       "      <td>NaN</td>\n",
       "      <td>NaN</td>\n",
       "    </tr>\n",
       "    <tr>\n",
       "      <th>1</th>\n",
       "      <td>NaN</td>\n",
       "      <td>NaN</td>\n",
       "      <td>NaN</td>\n",
       "    </tr>\n",
       "    <tr>\n",
       "      <th>2</th>\n",
       "      <td>NaN</td>\n",
       "      <td>NaN</td>\n",
       "      <td>NaN</td>\n",
       "    </tr>\n",
       "    <tr>\n",
       "      <th>3</th>\n",
       "      <td>NaN</td>\n",
       "      <td>NaN</td>\n",
       "      <td>NaN</td>\n",
       "    </tr>\n",
       "    <tr>\n",
       "      <th>4</th>\n",
       "      <td>NaN</td>\n",
       "      <td>NaN</td>\n",
       "      <td>NaN</td>\n",
       "    </tr>\n",
       "    <tr>\n",
       "      <th>5</th>\n",
       "      <td>NaN</td>\n",
       "      <td>NaN</td>\n",
       "      <td>NaN</td>\n",
       "    </tr>\n",
       "  </tbody>\n",
       "</table>\n",
       "</div>"
      ],
      "text/plain": [
       "  Eye Color Frequency Probability\n",
       "0       NaN       NaN         NaN\n",
       "1       NaN       NaN         NaN\n",
       "2       NaN       NaN         NaN\n",
       "3       NaN       NaN         NaN\n",
       "4       NaN       NaN         NaN\n",
       "5       NaN       NaN         NaN"
      ]
     },
     "execution_count": 38,
     "metadata": {},
     "output_type": "execute_result"
    }
   ],
   "source": [
    "# Great I've got an empty dataframe to work with\n",
    "eye_frame"
   ]
  },
  {
   "cell_type": "code",
   "execution_count": 46,
   "metadata": {
    "collapsed": false
   },
   "outputs": [
    {
     "data": {
      "text/html": [
       "<div>\n",
       "<table border=\"1\" class=\"dataframe\">\n",
       "  <thead>\n",
       "    <tr style=\"text-align: right;\">\n",
       "      <th></th>\n",
       "      <th>Eye Color</th>\n",
       "      <th>Frequency</th>\n",
       "      <th>Probability</th>\n",
       "    </tr>\n",
       "  </thead>\n",
       "  <tbody>\n",
       "    <tr>\n",
       "      <th>0</th>\n",
       "      <td>Brown</td>\n",
       "      <td>23</td>\n",
       "      <td>NaN</td>\n",
       "    </tr>\n",
       "    <tr>\n",
       "      <th>1</th>\n",
       "      <td>Green</td>\n",
       "      <td>14</td>\n",
       "      <td>NaN</td>\n",
       "    </tr>\n",
       "    <tr>\n",
       "      <th>2</th>\n",
       "      <td>Blue</td>\n",
       "      <td>11</td>\n",
       "      <td>NaN</td>\n",
       "    </tr>\n",
       "    <tr>\n",
       "      <th>3</th>\n",
       "      <td>Hazel</td>\n",
       "      <td>6</td>\n",
       "      <td>NaN</td>\n",
       "    </tr>\n",
       "    <tr>\n",
       "      <th>4</th>\n",
       "      <td>Dark Brown</td>\n",
       "      <td>1</td>\n",
       "      <td>NaN</td>\n",
       "    </tr>\n",
       "    <tr>\n",
       "      <th>5</th>\n",
       "      <td>Black</td>\n",
       "      <td>1</td>\n",
       "      <td>NaN</td>\n",
       "    </tr>\n",
       "  </tbody>\n",
       "</table>\n",
       "</div>"
      ],
      "text/plain": [
       "    Eye Color Frequency Probability\n",
       "0       Brown        23         NaN\n",
       "1       Green        14         NaN\n",
       "2        Blue        11         NaN\n",
       "3       Hazel         6         NaN\n",
       "4  Dark Brown         1         NaN\n",
       "5       Black         1         NaN"
      ]
     },
     "execution_count": 46,
     "metadata": {},
     "output_type": "execute_result"
    }
   ],
   "source": [
    "# Alright lets fill the data up with what we know\n",
    "eye_colors = ['Brown','Green','Blue','Hazel','Dark Brown','Black']\n",
    "eye_colors_people = [23,14,11,6,1,1]\n",
    "for row_num,row in enumerate(eye_frame.iterrows()):\n",
    "    row[1][0] = eye_colors[row_num]\n",
    "    row[1][1] = eye_colors_people[row_num]\n",
    "eye_frame"
   ]
  },
  {
   "cell_type": "code",
   "execution_count": 53,
   "metadata": {
    "collapsed": false
   },
   "outputs": [
    {
     "data": {
      "text/html": [
       "<div>\n",
       "<table border=\"1\" class=\"dataframe\">\n",
       "  <thead>\n",
       "    <tr style=\"text-align: right;\">\n",
       "      <th></th>\n",
       "      <th>Eye Color</th>\n",
       "      <th>Frequency</th>\n",
       "      <th>Probability</th>\n",
       "    </tr>\n",
       "  </thead>\n",
       "  <tbody>\n",
       "    <tr>\n",
       "      <th>0</th>\n",
       "      <td>Brown</td>\n",
       "      <td>23</td>\n",
       "      <td>0.4107143</td>\n",
       "    </tr>\n",
       "    <tr>\n",
       "      <th>1</th>\n",
       "      <td>Green</td>\n",
       "      <td>14</td>\n",
       "      <td>0.25</td>\n",
       "    </tr>\n",
       "    <tr>\n",
       "      <th>2</th>\n",
       "      <td>Blue</td>\n",
       "      <td>11</td>\n",
       "      <td>0.1964286</td>\n",
       "    </tr>\n",
       "    <tr>\n",
       "      <th>3</th>\n",
       "      <td>Hazel</td>\n",
       "      <td>6</td>\n",
       "      <td>0.1071429</td>\n",
       "    </tr>\n",
       "    <tr>\n",
       "      <th>4</th>\n",
       "      <td>Dark Brown</td>\n",
       "      <td>1</td>\n",
       "      <td>0.01785714</td>\n",
       "    </tr>\n",
       "    <tr>\n",
       "      <th>5</th>\n",
       "      <td>Black</td>\n",
       "      <td>1</td>\n",
       "      <td>0.01785714</td>\n",
       "    </tr>\n",
       "  </tbody>\n",
       "</table>\n",
       "</div>"
      ],
      "text/plain": [
       "    Eye Color Frequency Probability\n",
       "0       Brown        23   0.4107143\n",
       "1       Green        14        0.25\n",
       "2        Blue        11   0.1964286\n",
       "3       Hazel         6   0.1071429\n",
       "4  Dark Brown         1  0.01785714\n",
       "5       Black         1  0.01785714"
      ]
     },
     "execution_count": 53,
     "metadata": {},
     "output_type": "execute_result"
    }
   ],
   "source": [
    "# Lets get the probability based on our data\n",
    "total_people = eye_frame['Frequency'].sum() # All the people in the study\n",
    "for row_num,row in enumerate(eye_frame.iterrows()):\n",
    "    row[1][2] = row[1][1]/total_people\n",
    "eye_frame"
   ]
  },
  {
   "cell_type": "markdown",
   "metadata": {},
   "source": [
    "3.Verify that your probability model is a legitimate probability model. (HINT: Use the two Rules of Probability on pg. 256.)\n",
    "Rules\n",
    "The probabilities must ad up to 1"
   ]
  },
  {
   "cell_type": "code",
   "execution_count": 60,
   "metadata": {
    "collapsed": false
   },
   "outputs": [],
   "source": [
    "# Lets double check this\n",
    "for row in eye_frame.iterrows():\n",
    "    assert row[1][2] > 0 and row[1][2] < 1 \n",
    "#Since this loop passed that means all the probabilities are less than 1 and greator than 0\n",
    "assert eye_frame['Probability'].sum() == 1.0 # The assertion passed which means the sum of the probabilities is equal to 1"
   ]
  },
  {
   "cell_type": "markdown",
   "metadata": {},
   "source": [
    "1.Construct a probability model for eye color in my two classes. Round your probabilities to three decimal places and write them in the table above.\n"
   ]
  },
  {
   "cell_type": "code",
   "execution_count": 59,
   "metadata": {
    "collapsed": false
   },
   "outputs": [
    {
     "data": {
      "text/html": [
       "<div>\n",
       "<table border=\"1\" class=\"dataframe\">\n",
       "  <thead>\n",
       "    <tr style=\"text-align: right;\">\n",
       "      <th></th>\n",
       "      <th>Eye Color</th>\n",
       "      <th>Frequency</th>\n",
       "      <th>Probability</th>\n",
       "    </tr>\n",
       "  </thead>\n",
       "  <tbody>\n",
       "    <tr>\n",
       "      <th>0</th>\n",
       "      <td>Brown</td>\n",
       "      <td>23</td>\n",
       "      <td>0.4107143</td>\n",
       "    </tr>\n",
       "    <tr>\n",
       "      <th>1</th>\n",
       "      <td>Green</td>\n",
       "      <td>14</td>\n",
       "      <td>0.25</td>\n",
       "    </tr>\n",
       "    <tr>\n",
       "      <th>2</th>\n",
       "      <td>Blue</td>\n",
       "      <td>11</td>\n",
       "      <td>0.1964286</td>\n",
       "    </tr>\n",
       "    <tr>\n",
       "      <th>3</th>\n",
       "      <td>Hazel</td>\n",
       "      <td>6</td>\n",
       "      <td>0.1071429</td>\n",
       "    </tr>\n",
       "    <tr>\n",
       "      <th>4</th>\n",
       "      <td>Dark Brown</td>\n",
       "      <td>1</td>\n",
       "      <td>0.01785714</td>\n",
       "    </tr>\n",
       "    <tr>\n",
       "      <th>5</th>\n",
       "      <td>Black</td>\n",
       "      <td>1</td>\n",
       "      <td>0.01785714</td>\n",
       "    </tr>\n",
       "  </tbody>\n",
       "</table>\n",
       "</div>"
      ],
      "text/plain": [
       "    Eye Color Frequency Probability\n",
       "0       Brown        23   0.4107143\n",
       "1       Green        14        0.25\n",
       "2        Blue        11   0.1964286\n",
       "3       Hazel         6   0.1071429\n",
       "4  Dark Brown         1  0.01785714\n",
       "5       Black         1  0.01785714"
      ]
     },
     "execution_count": 59,
     "metadata": {},
     "output_type": "execute_result"
    }
   ],
   "source": [
    "# Great this one is finished.  No need to round to 3 decimal places since this is in code\n",
    "eye_frame"
   ]
  },
  {
   "cell_type": "markdown",
   "metadata": {},
   "source": [
    "2.Are your probabilities empirical probabilities or classical probabilities? Explain.\n",
    "\n",
    "These are emperical probabilities since the data was collected from test results."
   ]
  },
  {
   "cell_type": "markdown",
   "metadata": {},
   "source": [
    "4.In the sample space of eye color, are dark brown eyes unusual? Are black eyes unusual? Explain why or why not."
   ]
  },
  {
   "cell_type": "markdown",
   "metadata": {},
   "source": [
    "An event is usually considered unusual if it has a probability less then .05"
   ]
  },
  {
   "cell_type": "markdown",
   "metadata": {},
   "source": [
    "Dark Brown Eyes and Black Eyes are both unusual"
   ]
  },
  {
   "cell_type": "code",
   "execution_count": null,
   "metadata": {
    "collapsed": true
   },
   "outputs": [],
   "source": []
  }
 ],
 "metadata": {
  "kernelspec": {
   "display_name": "Python 3",
   "language": "python",
   "name": "python3"
  },
  "language_info": {
   "codemirror_mode": {
    "name": "ipython",
    "version": 3
   },
   "file_extension": ".py",
   "mimetype": "text/x-python",
   "name": "python",
   "nbconvert_exporter": "python",
   "pygments_lexer": "ipython3",
   "version": "3.4.3"
  }
 },
 "nbformat": 4,
 "nbformat_minor": 0
}
