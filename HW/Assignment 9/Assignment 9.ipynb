{
 "cells": [
  {
   "cell_type": "code",
   "execution_count": 1,
   "metadata": {
    "collapsed": true
   },
   "outputs": [],
   "source": [
    "import pandas as pd\n",
    "import statistics as stat\n",
    "import numpy as np\n",
    "import matplotlib.pyplot as plt\n",
    "import math\n",
    "import itertools\n",
    "import seaborn as sns\n",
    "from sklearn.cross_validation import train_test_split\n",
    "from sklearn import linear_model\n",
    "%matplotlib inline"
   ]
  },
  {
   "cell_type": "code",
   "execution_count": 40,
   "metadata": {
    "collapsed": false
   },
   "outputs": [],
   "source": [
    "data = open(\"diamonds_data.txt\") # Read the data in\n",
    "\n",
    "data = data.read().split('\\n') # Splits the data by newline into rows\n",
    "\n",
    "cleaned_data = [row.split(' ')[1:] for row in data] # This splits our data into columns\n",
    "cleaned_data = [[float(row[0]), float(row[1])] for row in cleaned_data[:-1]]"
   ]
  },
  {
   "cell_type": "code",
   "execution_count": 41,
   "metadata": {
    "collapsed": false
   },
   "outputs": [],
   "source": [
    "headers = [\"Carot Weight\", \"Price in Singapore\"]\n",
    "data_di = pd.DataFrame(cleaned_data, columns=headers)\n",
    "data_di = data_di.dropna()"
   ]
  },
  {
   "cell_type": "code",
   "execution_count": 71,
   "metadata": {
    "collapsed": false
   },
   "outputs": [
    {
     "name": "stdout",
     "output_type": "stream",
     "text": [
      "(206, 2)\n"
     ]
    },
    {
     "data": {
      "text/plain": [
       "(102, 2)"
      ]
     },
     "execution_count": 71,
     "metadata": {},
     "output_type": "execute_result"
    }
   ],
   "source": [
    "df_train, df_test = train_test_split(data_di, test_size=0.33)\n",
    "print(df_train.shape)\n",
    "df_test.shape"
   ]
  },
  {
   "cell_type": "code",
   "execution_count": 84,
   "metadata": {
    "collapsed": false
   },
   "outputs": [
    {
     "name": "stdout",
     "output_type": "stream",
     "text": [
      "0.890945043241\n"
     ]
    }
   ],
   "source": [
    "score = 0\n",
    "for item in range(10000):    \n",
    "    df_train, df_test = train_test_split(data_di, test_size=0.33)\n",
    "    cweight = np.array(df_train['Carot Weight']).reshape(206,1)\n",
    "    cprice = np.array(df_train['Price in Singapore'].tolist()).reshape(206,1)\n",
    "    cweight_test = np.array(df_test['Carot Weight']).reshape(102,1)\n",
    "    cprice_test = np.array(df_test['Price in Singapore'].tolist()).reshape(102,1)\n",
    "    regr1 = linear_model.LinearRegression()\n",
    "    regr1.fit(cweight,cprice)\n",
    "    score += regr1.score(cweight_test, cprice_test)\n",
    "print(score/10000)\n",
    "# R^2 ="
   ]
  },
  {
   "cell_type": "code",
   "execution_count": 96,
   "metadata": {
    "collapsed": false
   },
   "outputs": [
    {
     "data": {
      "text/plain": [
       "[<matplotlib.lines.Line2D at 0x11284e710>]"
      ]
     },
     "execution_count": 96,
     "metadata": {},
     "output_type": "execute_result"
    },
    {
     "data": {
      "image/png": "[encoded data removed]",
      "text/plain": [
       "<matplotlib.figure.Figure at 0x11284e748>"
      ]
     },
     "metadata": {},
     "output_type": "display_data"
    }
   ],
   "source": [
    "plt.scatter(cweight, cprice,  color='black')\n",
    "plt.plot(cweight, regr1.predict(cweight), color='blue', linewidth=3)"
   ]
  },
  {
   "cell_type": "code",
   "execution_count": 93,
   "metadata": {
    "collapsed": false
   },
   "outputs": [
    {
     "name": "stdout",
     "output_type": "stream",
     "text": [
      "[[ 11593.56805099]]\n",
      "[-2270.28404955]\n"
     ]
    }
   ],
   "source": [
    "print(regr1.coef_)\n",
    "print(regr1.intercept_)"
   ]
  },
  {
   "cell_type": "code",
   "execution_count": 120,
   "metadata": {
    "collapsed": false
   },
   "outputs": [
    {
     "name": "stdout",
     "output_type": "stream",
     "text": [
      "7468.31311328 5705.0\n",
      "The Residual is -1763.31311328\n"
     ]
    }
   ],
   "source": [
    "predicted = regr1.predict(.84)[0][0]\n",
    "observed = [row[1] for row in cleaned_data if row[0]==.84][0]\n",
    "print(predicted,observed)\n",
    "print(\"The Residual is\", observed - predicted)"
   ]
  }
 ],
 "metadata": {
  "kernelspec": {
   "display_name": "Python 3",
   "language": "python",
   "name": "python3"
  },
  "language_info": {
   "codemirror_mode": {
    "name": "ipython",
    "version": 3
   },
   "file_extension": ".py",
   "mimetype": "text/x-python",
   "name": "python",
   "nbconvert_exporter": "python",
   "pygments_lexer": "ipython3",
   "version": "3.4.3"
  }
 },
 "nbformat": 4,
 "nbformat_minor": 0
}
