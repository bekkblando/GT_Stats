{
 "cells": [
  {
   "cell_type": "code",
   "execution_count": 2,
   "metadata": {
    "collapsed": false
   },
   "outputs": [],
   "source": [
    "import pandas as pd\n",
    "import statistics as stat\n",
    "import numpy as np\n",
    "import matplotlib.pyplot as plt\n",
    "import math\n",
    "import itertools\n",
    "%matplotlib inline"
   ]
  },
  {
   "cell_type": "markdown",
   "metadata": {},
   "source": [
    "MAT 120 Online, Project #3\n",
    "Fall 2015\n",
    "\n",
    "\n",
    "Open the data file for my two MAT 120 Online classes. You should print the file as well, since we will be using the data throughout the semester. In case you lose the file, I have uploaded it to Course Content as well.\n",
    "\n",
    "First, let’s talk about some of the issues inherent in gathering data. ",
    " \n",
    "You will notice that there are some empty cells in the Distance from Barton column. Why? I meant “distance” to mean “number of miles.” Several students interpreted distance to mean “number of minutes.” What was the problem? A poorly worded survey question. My question was not specific enough. What happens? Those data points must be dropped from any analysis. Do not enter zeros. This is a common error. Zero would not imply a missing value, but a distance of 0 miles from Barton. This seems obvious, but it happens! ",
    "\n",
    "What do you do with unusual data values or outliers? Three things: ",
    "\n",
    "The most common cause of an outlier is data entry error. Check the original data and if there is a data entry error, fix it. In other words, “scrub the data.” (Data scrubbing is a much more sophisticated process in the real world, typically involving computer programs developed specifically for this purpose.) I’ve checked our data set; the values are correct. ",
    "\n",
    "The next thing to do is to ask whether the unusual data value indicates something systemically different about the individual being measured. In other words, did the data value come from a different population than you intended to study? For example, in our data we have several students with a 0.000 GPA. (We also had two who left this field blank.) What does this imply? It typically implies that the student is new to college and has not completed classes to begin building a GPA. In a case like this, it is legitimate to drop the data values from the analysis. A 0.000 GPA does not imply a poor student. ",
    "\n",
    "What if the unusual data value is legitimate? For example, we have one student who listed Distance from Barton as 176 miles. This student legitimately lives that far from GTC. The student has a remote proctor for tests. (I have had online students in Afghanistan and China in the past!) In a case like this, you cannot drop the data value just because you don’t like it. That would be unethical.\n"
   ]
  },
  {
   "cell_type": "markdown",
   "metadata": {},
   "source": [
    "<h1>Well to get started I've got to read the file in."
   ]
  },
  {
   "cell_type": "code",
   "execution_count": 5,
   "metadata": {
    "collapsed": false
   },
   "outputs": [],
   "source": [
    "data = open(\"assignment3data.txt\") # Read the data in\n",
    "\n",
    "data = data.read().split('\\n') # Splits the data by newline into rows\n",
    "\n",
    "cleaned_data = [row.split(' ') for row in data] # This splits our data into columns"
   ]
  },
  {
   "cell_type": "code",
   "execution_count": 6,
   "metadata": {
    "collapsed": false
   },
   "outputs": [
    {
     "name": "stdout",
     "output_type": "stream",
     "text": [
      "['Chevrolet', '21', '1', 'Brown', '3.000', '5']\n"
     ]
    }
   ],
   "source": [
    "print(cleaned_data[2]) # First Column for example purposes"
   ]
  },
  {
   "cell_type": "markdown",
   "metadata": {},
   "source": [
    "Here our the headers for our data\n",
    "\n",
    "\n",
    "Model of Vehicle, Age (Years), # of Children, Eye Color, GPA, Amount of Sleep (Hours), Distance from Barton (Miles)\n"
   ]
  },
  {
   "cell_type": "code",
   "execution_count": 7,
   "metadata": {
    "collapsed": true
   },
   "outputs": [],
   "source": [
    "cleaned_data[45] = ['Hyundai', '32', '0', 'Dark Brown', '2.000', '5.5', '43.1'] # Just a bit of error handling one had\n",
    "# a dark brown instead of one color, found it using a for loop to check for consistant size"
   ]
  },
  {
   "cell_type": "code",
   "execution_count": 8,
   "metadata": {
    "collapsed": false
   },
   "outputs": [],
   "source": [
    "data_table = pd.DataFrame(cleaned_data, columns=[\"Model of Vehicle\",\n",
    "                                                 \"Age (Years)\",\n",
    "                                                 \"# of Children\",\n",
    "                                                 \"Eye Color\",\n",
    "                                                 \"GPA\",\n",
    "                                                 \"Amount of Sleep (Hours)\",\n",
    "                                                 \"Distance from Barton (Miles)\"])"
   ]
  },
  {
   "cell_type": "code",
   "execution_count": 9,
   "metadata": {
    "collapsed": false
   },
   "outputs": [
    {
     "data": {
      "text/html": [
       "<div>\n",
       "<table border=\"1\" class=\"dataframe\">\n",
       "  <thead>\n",
       "    <tr style=\"text-align: right;\">\n",
       "      <th></th>\n",
       "      <th>Model of Vehicle</th>\n",
       "      <th>Age (Years)</th>\n",
       "      <th># of Children</th>\n",
       "      <th>Eye Color</th>\n",
       "      <th>GPA</th>\n",
       "      <th>Amount of Sleep (Hours)</th>\n",
       "      <th>Distance from Barton (Miles)</th>\n",
       "    </tr>\n",
       "  </thead>\n",
       "  <tbody>\n",
       "    <tr>\n",
       "      <th>0</th>\n",
       "      <td>Chevrolet</td>\n",
       "      <td>43</td>\n",
       "      <td>2</td>\n",
       "      <td>Brown</td>\n",
       "      <td>3.610</td>\n",
       "      <td>7</td>\n",
       "      <td>6.59</td>\n",
       "    </tr>\n",
       "    <tr>\n",
       "      <th>1</th>\n",
       "      <td>Pontiac</td>\n",
       "      <td>22</td>\n",
       "      <td>1</td>\n",
       "      <td>Brown</td>\n",
       "      <td>3.700</td>\n",
       "      <td>6</td>\n",
       "      <td>None</td>\n",
       "    </tr>\n",
       "    <tr>\n",
       "      <th>2</th>\n",
       "      <td>Chevrolet</td>\n",
       "      <td>21</td>\n",
       "      <td>1</td>\n",
       "      <td>Brown</td>\n",
       "      <td>3.000</td>\n",
       "      <td>5</td>\n",
       "      <td>None</td>\n",
       "    </tr>\n",
       "    <tr>\n",
       "      <th>3</th>\n",
       "      <td>GMC</td>\n",
       "      <td>29</td>\n",
       "      <td>1</td>\n",
       "      <td>Brown</td>\n",
       "      <td>1.667</td>\n",
       "      <td>6</td>\n",
       "      <td>None</td>\n",
       "    </tr>\n",
       "    <tr>\n",
       "      <th>4</th>\n",
       "      <td>Dodge</td>\n",
       "      <td>21</td>\n",
       "      <td>0</td>\n",
       "      <td>Blue</td>\n",
       "      <td>2.760</td>\n",
       "      <td>10</td>\n",
       "      <td>10</td>\n",
       "    </tr>\n",
       "  </tbody>\n",
       "</table>\n",
       "</div>"
      ],
      "text/plain": [
       "  Model of Vehicle Age (Years) # of Children Eye Color    GPA  \\\n",
       "0        Chevrolet          43             2     Brown  3.610   \n",
       "1          Pontiac          22             1     Brown  3.700   \n",
       "2        Chevrolet          21             1     Brown  3.000   \n",
       "3              GMC          29             1     Brown  1.667   \n",
       "4            Dodge          21             0      Blue  2.760   \n",
       "\n",
       "  Amount of Sleep (Hours) Distance from Barton (Miles)  \n",
       "0                       7                         6.59  \n",
       "1                       6                         None  \n",
       "2                       5                         None  \n",
       "3                       6                         None  \n",
       "4                      10                           10  "
      ]
     },
     "execution_count": 9,
     "metadata": {},
     "output_type": "execute_result"
    }
   ],
   "source": [
    "data_table.head()"
   ]
  },
  {
   "cell_type": "code",
   "execution_count": 10,
   "metadata": {
    "collapsed": false
   },
   "outputs": [
    {
     "data": {
      "text/html": [
       "<div>\n",
       "<table border=\"1\" class=\"dataframe\">\n",
       "  <thead>\n",
       "    <tr style=\"text-align: right;\">\n",
       "      <th></th>\n",
       "      <th>Model of Vehicle</th>\n",
       "      <th>Age (Years)</th>\n",
       "      <th># of Children</th>\n",
       "      <th>Eye Color</th>\n",
       "      <th>GPA</th>\n",
       "      <th>Amount of Sleep (Hours)</th>\n",
       "      <th>Distance from Barton (Miles)</th>\n",
       "    </tr>\n",
       "  </thead>\n",
       "  <tbody>\n",
       "    <tr>\n",
       "      <th>52</th>\n",
       "      <td>Mazda</td>\n",
       "      <td>58</td>\n",
       "      <td>3</td>\n",
       "      <td>Brown</td>\n",
       "      <td>6.5</td>\n",
       "      <td>14</td>\n",
       "      <td>None</td>\n",
       "    </tr>\n",
       "    <tr>\n",
       "      <th>53</th>\n",
       "      <td>Ford</td>\n",
       "      <td>21</td>\n",
       "      <td>1</td>\n",
       "      <td>Brown</td>\n",
       "      <td>2.900</td>\n",
       "      <td>6</td>\n",
       "      <td>1</td>\n",
       "    </tr>\n",
       "    <tr>\n",
       "      <th>54</th>\n",
       "      <td>Honda</td>\n",
       "      <td>23</td>\n",
       "      <td>2</td>\n",
       "      <td>Black</td>\n",
       "      <td>2.800</td>\n",
       "      <td>8</td>\n",
       "      <td>30.5</td>\n",
       "    </tr>\n",
       "    <tr>\n",
       "      <th>55</th>\n",
       "      <td>Kia</td>\n",
       "      <td>24</td>\n",
       "      <td>0</td>\n",
       "      <td>Green</td>\n",
       "      <td>2.600</td>\n",
       "      <td>5</td>\n",
       "      <td>10</td>\n",
       "    </tr>\n",
       "    <tr>\n",
       "      <th>56</th>\n",
       "      <td></td>\n",
       "      <td>None</td>\n",
       "      <td>None</td>\n",
       "      <td>None</td>\n",
       "      <td>None</td>\n",
       "      <td>None</td>\n",
       "      <td>None</td>\n",
       "    </tr>\n",
       "  </tbody>\n",
       "</table>\n",
       "</div>"
      ],
      "text/plain": [
       "   Model of Vehicle Age (Years) # of Children Eye Color    GPA  \\\n",
       "52            Mazda          58             3     Brown    6.5   \n",
       "53             Ford          21             1     Brown  2.900   \n",
       "54            Honda          23             2     Black  2.800   \n",
       "55              Kia          24             0     Green  2.600   \n",
       "56                         None          None      None   None   \n",
       "\n",
       "   Amount of Sleep (Hours) Distance from Barton (Miles)  \n",
       "52                      14                         None  \n",
       "53                       6                            1  \n",
       "54                       8                         30.5  \n",
       "55                       5                           10  \n",
       "56                    None                         None  "
      ]
     },
     "execution_count": 10,
     "metadata": {},
     "output_type": "execute_result"
    }
   ],
   "source": [
    "data_table.tail()"
   ]
  },
  {
   "cell_type": "code",
   "execution_count": 11,
   "metadata": {
    "collapsed": false
   },
   "outputs": [],
   "source": [
    "data_table = data_table.drop(56) # The last row is just gunk from the data being copied off a PDF lets drop it"
   ]
  },
  {
   "cell_type": "markdown",
   "metadata": {},
   "source": [
    "<h3>Sweet we can do alot from here</h3>"
   ]
  },
  {
   "cell_type": "markdown",
   "metadata": {},
   "source": [
    "Create a histogram of the data. Start with the youngest age (18) and make your categories six years wide. You may do this using your calculator and reproduce the histogram below or do this by hand. (I suggest the calculator option.) Sketch the histogram by hand (in which case you will need to scan your project and send it to me in PDF format) or using the Word drawing tools.  "
   ]
  },
  {
   "cell_type": "markdown",
   "metadata": {},
   "source": [
    "Awesome, I can definetly whip this up with Matplotlib"
   ]
  },
  {
   "cell_type": "code",
   "execution_count": 11,
   "metadata": {
    "collapsed": false
   },
   "outputs": [
    {
     "data": {
      "image/png": "[encoded data removed]",
      "text/plain": [
       "<matplotlib.figure.Figure at 0x1159d70f0>"
      ]
     },
     "metadata": {},
     "output_type": "display_data"
    }
   ],
   "source": [
    "plt.hist([int(age) for age in data_table['Age (Years)']], bins=6)  # Yea! Histograms! This creates the histogram\n",
    "plt.title(\"Age Frequency of Stats Class\") # Lable for the overall chart\n",
    "plt.xlabel(\"Age\") # Lable for the x axis\n",
    "plt.ylabel(\"Frequency\") # Label for the y axis\n",
    "plt.show() # Lets show it"
   ]
  },
  {
   "cell_type": "markdown",
   "metadata": {},
   "source": [
    "It seems that our data is squewd to the left, this would tell the analyzer that people taking our class tend to be closer to 25 then 50.  This is not too suprising although that we have ages above 50 is intersting, I think seeing a larger sample on online class students could be fairly intersting."
   ]
  },
  {
   "cell_type": "markdown",
   "metadata": {},
   "source": [
    "<h3>Lets take a closer look real quick</h3>"
   ]
  },
  {
   "cell_type": "code",
   "execution_count": 12,
   "metadata": {
    "collapsed": false
   },
   "outputs": [
    {
     "data": {
      "image/png": "[encoded data removed]",
      "text/plain": [
       "<matplotlib.figure.Figure at 0x115a5f7f0>"
      ]
     },
     "metadata": {},
     "output_type": "display_data"
    }
   ],
   "source": [
    "plt.hist([int(age) for age in data_table['Age (Years)']], bins=10)  # Lets Take a closer look real quick\n",
    "plt.title(\"Age Frequency of Stats Class\") # Lable for the overall chart\n",
    "plt.xlabel(\"Age\") # Lable for the x axis\n",
    "plt.ylabel(\"Frequency\") # Label for the y axis\n",
    "plt.show() # Lets show it"
   ]
  },
  {
   "cell_type": "markdown",
   "metadata": {},
   "source": [
    "It is intersting that the data spikes around 20 and 30.  This shows how data can be shown in different manners to come to different truths"
   ]
  },
  {
   "cell_type": "markdown",
   "metadata": {},
   "source": [
    "<h5>Use the capabilities of your calculator to compute the following (include units):</h5>\n",
    "\n",
    "Mean\n",
    "\n",
    "Standard deviation\n",
    "\n",
    "Variance\n",
    "\n",
    "Range\n",
    "\n",
    "Five-number summary\n",
    "\n",
    "Interquartile range\n",
    "\n",
    "\n",
    "<h5>I'm going to do it in code using the equation to understand it and then check it with Python's Statistics Library or Numpy</h5>"
   ]
  },
  {
   "cell_type": "code",
   "execution_count": 39,
   "metadata": {
    "collapsed": false
   },
   "outputs": [
    {
     "name": "stdout",
     "output_type": "stream",
     "text": [
      "Here is the mean age for the class  28.410714285714285 in years\n"
     ]
    }
   ],
   "source": [
    "# The Mean\n",
    "\n",
    "age_mean = sum([int(age) for age in data_table['Age (Years)']]) / len(data_table['Age (Years)'])\n",
    "\n",
    "print(\"Here is the mean age for the class \", age_mean, \"in years\")\n",
    "\n",
    "# Lets check the answer with numpy\n",
    "\n",
    "assert age_mean == np.mean([int(age) for age in data_table['Age (Years)']]) # No assertion error means the answer is right\n",
    "# Awesome, mean is done"
   ]
  },
  {
   "cell_type": "code",
   "execution_count": 37,
   "metadata": {
    "collapsed": false
   },
   "outputs": [
    {
     "name": "stdout",
     "output_type": "stream",
     "text": [
      "The population standard deviation is 8.33190251321965 years\n",
      "The samples standard deviation is 8.407305882849286 years\n",
      "Since this is just for our class it this would most likely be considered the sample of a larger population\n"
     ]
    }
   ],
   "source": [
    "# Standard Deviation\n",
    "\n",
    "# Get the differences from the value to mean, and square the result\n",
    "age_squared_diff = [(age_mean - int_age)**2 for int_age in [int(age) for age in data_table['Age (Years)']]]\n",
    "# This is the final answer if this is the population standard dev\n",
    "age_pstd_dev = math.sqrt((sum(age_squared_diff)/len(age_squared_diff)))\n",
    "print(\"The population standard deviation is\", age_pstd_dev, \"years\")\n",
    "\n",
    "# Great lets do the sample standard dev which makes a bit more sense for this one\n",
    "age_sstd_dev = math.sqrt((sum(age_squared_diff)/(len(age_squared_diff) -1 )))\n",
    "print(\"The samples standard deviation is\", age_sstd_dev, \"years\")\n",
    "# Lets check the population standard dev\n",
    "assert age_pstd_dev == stat.pstdev([int(age) for age in data_table['Age (Years)']]) # No assertion errors means this is correct\n",
    "\n",
    "# Lets check the sample standard dev\n",
    "assert age_sstd_dev == stat.stdev([int(age) for age in data_table['Age (Years)']]) # No assertion errors means this is correct\n",
    "\n",
    "print(\"Since this is just for our class it this would most likely be considered the sample of a larger population\")"
   ]
  },
  {
   "cell_type": "code",
   "execution_count": 52,
   "metadata": {
    "collapsed": false
   },
   "outputs": [
    {
     "name": "stdout",
     "output_type": "stream",
     "text": [
      "The population variance is 69.42059948979592 in years^2\n",
      "The sample variance is 70.6827922077922 in years^2\n",
      "Since this is just for our class it this would most likely be considered the sample of a larger population\n"
     ]
    }
   ],
   "source": [
    "# Variance\n",
    "\n",
    "# This is the population Variance\n",
    "population_variance = (sum(age_squared_diff)/len(age_squared_diff))\n",
    "print(\"The population variance is\", population_variance, \"in years^2\")\n",
    "\n",
    "\n",
    "# This is the Sample Variance\n",
    "sample_variance = (sum(age_squared_diff)/(len(age_squared_diff) -1 ))\n",
    "print(\"The sample variance is\", sample_variance, \"in years^2\")\n",
    "\n",
    "# Lets check the population Variance\n",
    "assert population_variance == stat.pvariance([int(age) for age in data_table['Age (Years)']]) # No assertion errors means this is correct\n",
    "\n",
    "# Lets check the sample Variance\n",
    "assert sample_variance == stat.variance([int(age) for age in data_table['Age (Years)']]) # No assertion errors means this is correct\n",
    "\n",
    "print(\"Since this is just for our class it this would most likely be considered the sample of a larger population\")"
   ]
  },
  {
   "cell_type": "code",
   "execution_count": 57,
   "metadata": {
    "collapsed": false
   },
   "outputs": [
    {
     "name": "stdout",
     "output_type": "stream",
     "text": [
      "The age range for our class is 40 years\n"
     ]
    }
   ],
   "source": [
    "# Range\n",
    "\n",
    "# We already know the youngest age is 18, so we just need to find the oldest age\n",
    "oldest_age = max([int(age) for age in data_table['Age (Years)']]) # The oldest person is 58 which is found with this code\n",
    "age_range = oldest_age - 18\n",
    "\n",
    "# This operation is considered fairly simple, the statistics library/numpy/math standard library don't have a funciton for it\n",
    "print(\"The age range for our class is\", age_range, \"years\")"
   ]
  },
  {
   "cell_type": "code",
   "execution_count": 13,
   "metadata": {
    "collapsed": false,
    "scrolled": true
   },
   "outputs": [
    {
     "name": "stdout",
     "output_type": "stream",
     "text": [
      "Here are the quartiles [22, 27.0, 32.5]\n"
     ]
    }
   ],
   "source": [
    "# This gets our data in order\n",
    "age_list = sorted([int(age) for age in data_table['Age (Years)']])\n",
    "\n",
    "\n",
    "low_mid = int( round( ( len(age_list) + 1 ) / 4.0 ) - 1 )\n",
    "q1_num = age_list[low_mid]\n",
    "\n",
    "nums = age_list\n",
    "try:\n",
    "    high_mid = ( len( age_list ) - 1 ) * 0.75\n",
    "    uq = age_list[ high_mid ]\n",
    "except TypeError:   #<  There were an even amount of values\n",
    "    # Make sure to type results of math.floor/ceil to int for use in list indices\n",
    "    ceil = int( math.ceil( high_mid ) )\n",
    "    floor = int( math.floor( high_mid ) )\n",
    "    q3_num = ( nums[ ceil ] + nums[ floor ] ) / 2\n",
    "\n",
    "quartiles = [q1_num, (stat.median(age_list)), q3_num]\n",
    "\n",
    "# Lets check the quartiles, the stats library doesn't have a function to get all the quartiles but we can check Q2\n",
    "assert stat.median(age_list) == quartiles[1] # No assertion error means the Q2 is correct\n",
    "\n",
    "print(\"Here are the quartiles\", quartiles)"
   ]
  },
  {
   "cell_type": "code",
   "execution_count": 190,
   "metadata": {
    "collapsed": false
   },
   "outputs": [
    {
     "name": "stdout",
     "output_type": "stream",
     "text": [
      "Total Summary: [18, 22, 27.0, 32.5, 58]\n",
      "\n",
      " Break Down \n",
      " #####################\n",
      "\n",
      " Min Value (Youngest Person): 18 \n",
      " First Quartile: 22 \n",
      " Second Quartile (Median): 27.0 \n",
      " Third Quartile: 32.5 \n",
      " Max Value (Oldest Person): 58\n"
     ]
    }
   ],
   "source": [
    "# Five-Number Summary\n",
    "\n",
    "# Lets organize our calculations into a Five Numbered Summary\n",
    "five_number_summary = [min(age_list), quartiles[0], quartiles[1], quartiles[2], max(age_list)]\n",
    "print(\"Total Summary:\", five_number_summary)\n",
    "\n",
    "print(\"\\n Break Down \\n #####################\")\n",
    "print(\"\\n\", \"Min Value (Youngest Person):\", five_number_summary[0],\"\\n\",\n",
    "     \"First Quartile:\", five_number_summary[1],\"\\n\",\n",
    "     \"Second Quartile (Median):\", five_number_summary[2],\"\\n\",\n",
    "     \"Third Quartile:\", five_number_summary[3],\"\\n\",\n",
    "     \"Max Value (Oldest Person):\", five_number_summary[4])"
   ]
  },
  {
   "cell_type": "code",
   "execution_count": 195,
   "metadata": {
    "collapsed": false
   },
   "outputs": [
    {
     "name": "stdout",
     "output_type": "stream",
     "text": [
      "The Interquartile Range is 10.5\n"
     ]
    }
   ],
   "source": [
    "# Interquartile Range\n",
    "\n",
    "# To get the Interquartile Range I'll subract Quartile 3 from Quartile 1\n",
    "# BTW the reason it say's two on the index is because programming is zero indexed\n",
    "interquartile_range = quartiles[2] - quartiles[0]\n",
    "print(\"The Interquartile Range is\", interquartile_range)"
   ]
  },
  {
   "cell_type": "markdown",
   "metadata": {},
   "source": [
    "<h4>Are the values you computed above parameters or statistics? Explain your answer.</h4>"
   ]
  },
  {
   "cell_type": "markdown",
   "metadata": {},
   "source": [
    "<strong>\n",
    "Mean\n",
    "Standard deviation\n",
    "Variance\n",
    "Range\n",
    "Five-number summary\n",
    "Interquartile range\n",
    "</strong>\n",
    "\n",
    "<p> The calculations above are a statistic because they are not giving a numerical description of our population.  This is because our class is a sample of a larger population, aka students at Greenville Tech.</p>"
   ]
  },
  {
   "cell_type": "markdown",
   "metadata": {},
   "source": [
    "<h4>Determine the lower and upper fences. Are there any outliers in the data set? If so, name the outlier(s).</h4>"
   ]
  },
  {
   "cell_type": "code",
   "execution_count": 196,
   "metadata": {
    "collapsed": false
   },
   "outputs": [
    {
     "name": "stdout",
     "output_type": "stream",
     "text": [
      "15.75\n",
      "The Lower Fence is 6.25 years\n",
      "The Upper Fence is 48.25 years\n",
      "Because our data is squewed left toward a younger age group the upper fence is quite low\n",
      "Here are our outliers\n",
      "We have 2 out of 56\n"
     ]
    },
    {
     "data": {
      "text/html": [
       "<div>\n",
       "<table border=\"1\" class=\"dataframe\">\n",
       "  <thead>\n",
       "    <tr style=\"text-align: right;\">\n",
       "      <th></th>\n",
       "      <th>Model of Vehicle</th>\n",
       "      <th>Age (Years)</th>\n",
       "      <th># of Children</th>\n",
       "      <th>Eye Color</th>\n",
       "      <th>GPA</th>\n",
       "      <th>Amount of Sleep (Hours)</th>\n",
       "      <th>Distance from Barton (Miles)</th>\n",
       "    </tr>\n",
       "  </thead>\n",
       "  <tbody>\n",
       "    <tr>\n",
       "      <th>36</th>\n",
       "      <td>Toyota</td>\n",
       "      <td>50</td>\n",
       "      <td>0</td>\n",
       "      <td>Blue</td>\n",
       "      <td>0.000</td>\n",
       "      <td>7</td>\n",
       "      <td>45</td>\n",
       "    </tr>\n",
       "    <tr>\n",
       "      <th>52</th>\n",
       "      <td>Mazda</td>\n",
       "      <td>58</td>\n",
       "      <td>3</td>\n",
       "      <td>Brown</td>\n",
       "      <td>6.5</td>\n",
       "      <td>14</td>\n",
       "      <td>None</td>\n",
       "    </tr>\n",
       "  </tbody>\n",
       "</table>\n",
       "</div>"
      ],
      "text/plain": [
       "   Model of Vehicle  Age (Years) # of Children Eye Color    GPA  \\\n",
       "36           Toyota           50             0      Blue  0.000   \n",
       "52            Mazda           58             3     Brown    6.5   \n",
       "\n",
       "   Amount of Sleep (Hours) Distance from Barton (Miles)  \n",
       "36                       7                           45  \n",
       "52                      14                         None  "
      ]
     },
     "execution_count": 196,
     "metadata": {},
     "output_type": "execute_result"
    }
   ],
   "source": [
    "# The equation for the lower fence is, q1 - 1.5(IQR)\n",
    "lower_fence = quartiles[0] - (1.5*interquartile_range)\n",
    "upper_fence = quartiles[2] + (1.5*interquartile_range)\n",
    "print(1.5*interquartile_range)\n",
    "data_table['Age (Years)'] = [int(age) for age in data_table['Age (Years)']]\n",
    "outliers = pd.DataFrame(data_table[data_table['Age (Years)'] > upper_fence])\n",
    "print(\"The Lower Fence is\", lower_fence, \"years\")\n",
    "print(\"The Upper Fence is\", upper_fence, \"years\")\n",
    "\n",
    "print(\"Because our data is squewed left toward a younger age group the upper fence is quite low\")\n",
    "\n",
    "print(\"Here are our outliers\", )\n",
    "print(\"We have\", len(outliers),\"out of\", len(data_table))\n",
    "outliers"
   ]
  },
  {
   "cell_type": "markdown",
   "metadata": {},
   "source": [
    "<h4>Create a modified boxplot (the kind that shows outliers) of the data. You may do this using your calculator and reproduce the boxplot below or do this by hand. Sketch the boxplot by hand (in which case you will need to scan your project and send it to me in PDF format) or using the Word drawing tools.</h4>"
   ]
  },
  {
   "cell_type": "code",
   "execution_count": 17,
   "metadata": {
    "collapsed": false
   },
   "outputs": [
    {
     "data": {
      "text/plain": [
       "<matplotlib.text.Text at 0x10d7dcef0>"
      ]
     },
     "execution_count": 17,
     "metadata": {},
     "output_type": "execute_result"
    },
    {
     "data": {
      "image/png": "[encoded data removed]",
      "text/plain": [
       "<matplotlib.figure.Figure at 0x10d7fb4e0>"
      ]
     },
     "metadata": {},
     "output_type": "display_data"
    }
   ],
   "source": [
    "fig, ax1 = plt.subplots(figsize=(14,6))\n",
    "plt.boxplot(age_list, vert=0)\n",
    "ax1.set_title('Statistics Class Box Plot')\n",
    "ax1.set_xlabel('Age')\n",
    "ax1.set_ylabel('Box Plot for Age')"
   ]
  },
  {
   "cell_type": "markdown",
   "metadata": {},
   "source": [
    "<ul>\n",
    "<li>The First Line on the left Lower Fence</li>\n",
    "<li>The Second on the left Line Q1</li>\n",
    "<li>The middle red line Q2(Mean)</li>\n",
    "<li>The second line to the right Q3</li>\n",
    "<li>The furthest right line Upper Fence</li>\n",
    "</ul>"
   ]
  },
  {
   "cell_type": "markdown",
   "metadata": {},
   "source": [
    "<h3>Does your boxplot support your conclusions is part 7? How?</h3>\n"
   ]
  },
  {
   "cell_type": "markdown",
   "metadata": {},
   "source": [
    "<strong><p>Yes, this does support my data in part 7.  The values of the graph match with my data.\n",
    "<br/>\n",
    "When I first analyzed my graph I noticed descrepincys knowing that Matplotlib is most likely incorrect I investegating as such which lead me to relieze that my quartiles were off by 1 digit and I found a genuis way to calculate them which I enjoyed understanding. <a href=\"https://blog.laslabs.com/2013/01/medians-and-quartiles-in-python/\"> Its here</a>.  I then reliezed that a typo in my interquartile range lead to another in accuracy.  Needless to say I gained an appreciation for the box plot</p></strong>"
   ]
  },
  {
   "cell_type": "markdown",
   "metadata": {},
   "source": [
    "<h3>Which measures would you choose to report to describe the center and spread of this distribution, the mean and standard deviation or the median and interquartile range? Why?</h3>\n"
   ]
  },
  {
   "cell_type": "markdown",
   "metadata": {},
   "source": [
    "<h5>I would report the Mean, Five Numbered Summary, and the Standard Deviation.</h5>\n",
    "<strong>\n",
    "<ol>\n",
    "<li>I feel the mean is a good measure of the center.</li>\n",
    "<li>The Fiver Numberd Summary gives the reader a very good idea on the spread of the data</li>\n",
    "<li>Standard Deviation gives the reader an idea on how close together the data is and allows them to do more calculations</li>\n",
    "<li> I would also include the number of outliers so the reader knows the extent of the class</li>\n",
    "</ol>\n"
   ]
  },
  {
   "cell_type": "markdown",
   "metadata": {},
   "source": [
    "<h3>Mishaps</h3>\n",
    "<p>Through out doing this assignment any error I made was put here for my future analyzation.</p>"
   ]
  },
  {
   "cell_type": "code",
   "execution_count": 161,
   "metadata": {
    "collapsed": false
   },
   "outputs": [],
   "source": [
    "# Incorrect calculation of quartiles\n",
    "age_list = sorted([int(age) for age in data_table['Age (Years)']])\n",
    "quartiles = []\n",
    "stepper = 0\n",
    "\n",
    "# This loop below is splitting up the data into quartiles\n",
    "for item in range(4):\n",
    "    quartiles.append(age_list[stepper:int(stepper+number_in_each_quartile)])\n",
    "    stepper += int(number_in_each_quartile)\n",
    "\n",
    "# Great, now that its divided lets get the mean of each quartile\n",
    "mean_quartiles = [np.mean(quartile) for quartile in quartiles]"
   ]
  },
  {
   "cell_type": "code",
   "execution_count": null,
   "metadata": {
    "collapsed": true
   },
   "outputs": [],
   "source": [
    "# Incorrect calculation of quartiles\n",
    "age_list = sorted([int(age) for age in data_table['Age (Years)']])\n",
    "number_in_each_quartile = (len([int(age) for age in data_table['Age (Years)']]))/3 # This is 18.66666666668\n",
    "\n",
    "# Since the middle quartile will have two extra numbers we can divide this up pretty easily\n",
    "q1_num = age_list[:18]\n",
    "q2_num = age_list[18:38]\n",
    "q3_num = age_list[38:56]\n",
    "# Lets get the quartiles\n",
    "quartiles = [max(q1_num), (stat.median(q2_num)), min(q3_num)]\n",
    "print(\"Here are the quartiles\", quartiles)\n"
   ]
  },
  {
   "cell_type": "code",
   "execution_count": null,
   "metadata": {
    "collapsed": true
   },
   "outputs": [],
   "source": []
  }
 ],
 "metadata": {
  "kernelspec": {
   "display_name": "Python 3",
   "language": "python",
   "name": "python3"
  }
 },
 "nbformat": 4,
 "nbformat_minor": 0
}
