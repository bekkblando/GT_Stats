{
 "cells": [
  {
   "cell_type": "code",
   "execution_count": 25,
   "metadata": {
    "collapsed": true
   },
   "outputs": [],
   "source": [
    "import pandas as pd\n",
    "import statistics as stat\n",
    "import numpy as np\n",
    "import matplotlib.pyplot as plt\n",
    "import seaborn\n",
    "import math\n",
    "import itertools\n",
    "%matplotlib inline\n",
    "data = open(\"assignment3data.txt\") # Read the data in\n",
    "\n",
    "data = data.read().split('\\n') # Splits the data by newline into rows\n",
    "\n",
    "cleaned_data = [row.split(' ') for row in data] # This splits our data into columns\n",
    "cleaned_data[45] = ['Hyundai', '32', '0', 'Dark Brown', '2.000', '5.5', '43.1'] # Just a bit of error handling one had\n",
    "# a dark brown instead of one color, found it using a for loop to check for consistant size\n",
    "data_table = pd.DataFrame(cleaned_data, columns=[\"Model of Vehicle\",\n",
    "                                                 \"Age (Years)\",\n",
    "                                                 \"# of Children\",\n",
    "                                                 \"Eye Color\",\n",
    "                                                 \"GPA\",\n",
    "                                                 \"Amount of Sleep (Hours)\",\n",
    "                                                 \"Distance from Barton (Miles)\"])\n",
    "data_table = data_table.drop(56) # The last row is just gunk from the data being copied off a PDF lets drop it\n",
    "\n",
    "age_list = [int(age) for age in data_table['Age (Years)']]"
   ]
  },
  {
   "cell_type": "code",
   "execution_count": 12,
   "metadata": {
    "collapsed": false
   },
   "outputs": [],
   "source": [
    "standard_dev_age = stat.stdev(age_list)\n",
    "mean_age = np.mean(age_list)"
   ]
  },
  {
   "cell_type": "code",
   "execution_count": 17,
   "metadata": {
    "collapsed": true
   },
   "outputs": [],
   "source": [
    "high = (max(age_list) - mean_age) / standard_dev_age\n",
    "low = (abs(min(age_list) - mean_age)) / standard_dev_age"
   ]
  },
  {
   "cell_type": "code",
   "execution_count": 24,
   "metadata": {
    "collapsed": false
   },
   "outputs": [
    {
     "name": "stdout",
     "output_type": "stream",
     "text": [
      "3.51947295919 1.23829374484\n",
      "78.9817352929\n",
      "0.210182647071\n"
     ]
    }
   ],
   "source": [
    "print(high, low)\n",
    "# This should come out to 100%\n",
    "k = high + low\n",
    "print((1 - (1/k)) * 100)\n",
    "print(1/k)"
   ]
  },
  {
   "cell_type": "code",
   "execution_count": 20,
   "metadata": {
    "collapsed": false
   },
   "outputs": [
    {
     "data": {
      "text/plain": [
       "75.0"
      ]
     },
     "execution_count": 20,
     "metadata": {},
     "output_type": "execute_result"
    }
   ],
   "source": [
    "# I want to know what percentage is within 2 standard deviations\n",
    "(1 - (1/4)) * 100"
   ]
  },
  {
   "cell_type": "code",
   "execution_count": null,
   "metadata": {
    "collapsed": true
   },
   "outputs": [],
   "source": []
  }
 ],
 "metadata": {
  "kernelspec": {
   "display_name": "Python 3",
   "language": "python",
   "name": "python3"
  },
  "language_info": {
   "codemirror_mode": {
    "name": "ipython",
    "version": 3
   },
   "file_extension": ".py",
   "mimetype": "text/x-python",
   "name": "python",
   "nbconvert_exporter": "python",
   "pygments_lexer": "ipython3",
   "version": "3.4.3"
  }
 },
 "nbformat": 4,
 "nbformat_minor": 0
}
