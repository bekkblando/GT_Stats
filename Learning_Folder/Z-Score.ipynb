{
 "cells": [
  {
   "cell_type": "code",
   "execution_count": 2,
   "metadata": {
    "collapsed": true
   },
   "outputs": [],
   "source": [
    "import pandas as pd\n",
    "import statistics as stat\n",
    "import numpy as np\n",
    "import matplotlib.pyplot as plt\n",
    "import seaborn\n",
    "import math\n",
    "import itertools\n",
    "%matplotlib inline\n",
    "data = open(\"assignment3data.txt\") # Read the data in\n",
    "\n",
    "data = data.read().split('\\n') # Splits the data by newline into rows\n",
    "\n",
    "cleaned_data = [row.split(' ') for row in data] # This splits our data into columns\n",
    "cleaned_data[45] = ['Hyundai', '32', '0', 'Dark Brown', '2.000', '5.5', '43.1'] # Just a bit of error handling one had\n",
    "# a dark brown instead of one color, found it using a for loop to check for consistant size\n",
    "data_table = pd.DataFrame(cleaned_data, columns=[\"Model of Vehicle\",\n",
    "                                                 \"Age (Years)\",\n",
    "                                                 \"# of Children\",\n",
    "                                                 \"Eye Color\",\n",
    "                                                 \"GPA\",\n",
    "                                                 \"Amount of Sleep (Hours)\",\n",
    "                                                 \"Distance from Barton (Miles)\"])\n",
    "data_table = data_table.drop(56) # The last row is just gunk from the data being copied off a PDF lets drop it\n",
    "\n",
    "age_list = [int(age) for age in data_table['Age (Years)']]"
   ]
  },
  {
   "cell_type": "markdown",
   "metadata": {},
   "source": [
    "The Z-Score is just the difference between the mean and value in terms of standard deviation"
   ]
  },
  {
   "cell_type": "markdown",
   "metadata": {},
   "source": [
    "z = (value - mean) / standard_deviation"
   ]
  },
  {
   "cell_type": "code",
   "execution_count": 8,
   "metadata": {
    "collapsed": false
   },
   "outputs": [
    {
     "name": "stdout",
     "output_type": "stream",
     "text": [
      "28.4107142857 8.407305882849286\n"
     ]
    }
   ],
   "source": [
    "age_mean = np.mean(age_list)\n",
    "age_stdev = stat.stdev(age_list)\n",
    "print(age_mean, age_stdev)"
   ]
  },
  {
   "cell_type": "code",
   "execution_count": 5,
   "metadata": {
    "collapsed": false
   },
   "outputs": [
    {
     "name": "stdout",
     "output_type": "stream",
     "text": [
      "1.37847794237\n"
     ]
    }
   ],
   "source": [
    "z_score = (40 - age_mean)/ age_stdev\n",
    "print(z_score)\n"
   ]
  },
  {
   "cell_type": "markdown",
   "metadata": {},
   "source": [
    "Someone the age of 40 is 1.37 units of standard deviation away from the mean\n",
    "This means that we can also reverse calculate the mean with the standard deviation\n",
    "This is just to check my understanding"
   ]
  },
  {
   "cell_type": "code",
   "execution_count": 6,
   "metadata": {
    "collapsed": true
   },
   "outputs": [],
   "source": [
    "assert abs(40 - (z_score * age_stdev)) == age_mean # Great this runs"
   ]
  },
  {
   "cell_type": "code",
   "execution_count": 7,
   "metadata": {
    "collapsed": false
   },
   "outputs": [
    {
     "name": "stdout",
     "output_type": "stream",
     "text": [
      "28.4107142857 28.4107142857\n"
     ]
    }
   ],
   "source": [
    "print(abs(40 - (z_score * age_stdev)), age_mean)"
   ]
  }
 ],
 "metadata": {
  "kernelspec": {
   "display_name": "Python 3",
   "language": "python",
   "name": "python3"
  },
  "language_info": {
   "codemirror_mode": {
    "name": "ipython",
    "version": 3
   },
   "file_extension": ".py",
   "mimetype": "text/x-python",
   "name": "python",
   "nbconvert_exporter": "python",
   "pygments_lexer": "ipython3",
   "version": "3.4.3"
  }
 },
 "nbformat": 4,
 "nbformat_minor": 0
}
